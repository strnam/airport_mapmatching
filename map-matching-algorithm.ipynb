{
 "cells": [
  {
   "cell_type": "code",
   "execution_count": 1,
   "metadata": {},
   "outputs": [],
   "source": [
    "%load_ext autoreload\n",
    "%autoreload 2"
   ]
  },
  {
   "cell_type": "code",
   "execution_count": 2,
   "metadata": {},
   "outputs": [],
   "source": [
    "from IPython.display import display\n",
    "from IPython.display import IFrame\n",
    "import ipywidgets as widgets"
   ]
  },
  {
   "cell_type": "code",
   "execution_count": 32,
   "metadata": {},
   "outputs": [],
   "source": [
    "import json\n",
    "import networkx as nx\n",
    "import osmnx as ox\n",
    "import folium\n",
    "from folium.features import DivIcon"
   ]
  },
  {
   "cell_type": "code",
   "execution_count": 21,
   "metadata": {},
   "outputs": [],
   "source": [
    "from geometric import GeometricPoint, GeometricEdge\n",
    "from surfacemovement import Flight, Trajectory\n",
    "from mapmatching import WeightBasedMapMatching\n",
    "from airportgraph import AirportGraph, CHANGI_RUNWAYS_3, DEPARTURE_RUNWAY_MAP"
   ]
  },
  {
   "cell_type": "markdown",
   "metadata": {},
   "source": [
    "## Load Airport Graph"
   ]
  },
  {
   "cell_type": "code",
   "execution_count": 22,
   "metadata": {},
   "outputs": [],
   "source": [
    "G = nx.read_yaml('openstreetmap_changi_v2.yaml')\n",
    "graph = AirportGraph(G)"
   ]
  },
  {
   "cell_type": "markdown",
   "metadata": {},
   "source": [
    "## Load Flights data"
   ]
  },
  {
   "cell_type": "code",
   "execution_count": 42,
   "metadata": {},
   "outputs": [],
   "source": [
    "with open('test.json', 'r') as f:\n",
    "    data = json.load(f)"
   ]
  },
  {
   "cell_type": "code",
   "execution_count": 43,
   "metadata": {},
   "outputs": [
    {
     "data": {
      "text/plain": [
       "dict_keys(['0', '1', '2', '3', '4'])"
      ]
     },
     "execution_count": 43,
     "metadata": {},
     "output_type": "execute_result"
    }
   ],
   "source": [
    "data['flights'].keys()"
   ]
  },
  {
   "cell_type": "code",
   "execution_count": 44,
   "metadata": {},
   "outputs": [],
   "source": [
    "flight_data = data['flights']['0']"
   ]
  },
  {
   "cell_type": "code",
   "execution_count": 45,
   "metadata": {},
   "outputs": [],
   "source": [
    "flight = Flight.load_from_dict(flight_data)"
   ]
  },
  {
   "cell_type": "markdown",
   "metadata": {},
   "source": [
    "## Map-matching object"
   ]
  },
  {
   "cell_type": "code",
   "execution_count": 23,
   "metadata": {},
   "outputs": [],
   "source": [
    "map_matching = WeightBasedMapMatching(graph)\n",
    "map_matching.set_verbal(False)"
   ]
  },
  {
   "cell_type": "code",
   "execution_count": 48,
   "metadata": {},
   "outputs": [
    {
     "name": "stdout",
     "output_type": "stream",
     "text": [
      "False\n"
     ]
    }
   ],
   "source": [
    "\n",
    "points, points_velocity, timestamp = flight.get_sampling(distance_diff=10)\n",
    "\n",
    "best_route, accept_point_id = map_matching.run_v2(points, points_velocity)\n",
    "segments = list(zip(best_route, best_route[1:]))\n",
    "\n",
    "lat, lng = tuple(points[0].get_coordinate())\n",
    "graph_map = folium.Map(location=[lat,lng], \n",
    "                       zoom_start=18, max_zoom=20, tiles='cartodbpositron')\n",
    "graph_map = graph.plot_folium(folium_map=graph_map, anotation=False, fit_bounds=False)\n",
    "\n",
    "# graph_map = graph.plot_folium()\n",
    "# graph_map = flight.plot_folium(folium_map=graph_map)\n",
    "\n",
    "# for idx, point in enumerate(points):\n",
    "for idx, p in enumerate(flight):\n",
    "    lat, lng = tuple(p.get_coordinate())\n",
    "    folium.CircleMarker(location=[lat, lng],\n",
    "                        color='green',\n",
    "                        fill=True,\n",
    "                        fill_color='#3186cc',\n",
    "                        radius=2,\n",
    "                        weight=1).add_to(graph_map)\n",
    "    \n",
    "    folium.map.Marker(\n",
    "                    [lat, lng],\n",
    "                    icon=DivIcon(\n",
    "                        icon_size=(150, 36),\n",
    "                        icon_anchor=(0, 0),\n",
    "                        html='<div style=\"font-size: 8pt\">%s</div>' % idx,\n",
    "                    )\n",
    "                ).add_to(graph_map)\n",
    "\n",
    "for edge in segments:\n",
    "    graph_map = ox.plot_route_folium(G, edge, route_map=graph_map)\n",
    "\n",
    "filepath = 'offline_map_matching.html'\n",
    "graph_map.save(filepath)\n"
   ]
  },
  {
   "cell_type": "code",
   "execution_count": 49,
   "metadata": {},
   "outputs": [
    {
     "data": {
      "text/html": [
       "\n",
       "        <iframe\n",
       "            width=\"800\"\n",
       "            height=\"700\"\n",
       "            src=\"offline_map_matching.html\"\n",
       "            frameborder=\"0\"\n",
       "            allowfullscreen\n",
       "        ></iframe>\n",
       "        "
      ],
      "text/plain": [
       "<IPython.lib.display.IFrame at 0x7f0eaaf73240>"
      ]
     },
     "execution_count": 49,
     "metadata": {},
     "output_type": "execute_result"
    }
   ],
   "source": [
    "IFrame(filepath, width=800, height=700)"
   ]
  },
  {
   "cell_type": "code",
   "execution_count": null,
   "metadata": {},
   "outputs": [],
   "source": []
  }
 ],
 "metadata": {
  "kernelspec": {
   "display_name": "Python 3",
   "language": "python",
   "name": "python3"
  },
  "language_info": {
   "codemirror_mode": {
    "name": "ipython",
    "version": 3
   },
   "file_extension": ".py",
   "mimetype": "text/x-python",
   "name": "python",
   "nbconvert_exporter": "python",
   "pygments_lexer": "ipython3",
   "version": "3.7.3"
  }
 },
 "nbformat": 4,
 "nbformat_minor": 2
}
